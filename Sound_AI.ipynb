{
  "nbformat": 4,
  "nbformat_minor": 0,
  "metadata": {
    "colab": {
      "provenance": [],
      "mount_file_id": "16AL2uy4r-tagygHd506C-VUAfwB4YDtz",
      "authorship_tag": "ABX9TyO5X8vOIw3qYmiLt5TblTOY",
      "include_colab_link": true
    },
    "kernelspec": {
      "name": "python3",
      "display_name": "Python 3"
    },
    "language_info": {
      "name": "python"
    }
  },
  "cells": [
    {
      "cell_type": "markdown",
      "metadata": {
        "id": "view-in-github",
        "colab_type": "text"
      },
      "source": [
        "<a href=\"https://colab.research.google.com/github/viettran02/AI_project/blob/main/Sound_AI.ipynb\" target=\"_parent\"><img src=\"https://colab.research.google.com/assets/colab-badge.svg\" alt=\"Open In Colab\"/></a>"
      ]
    },
    {
      "cell_type": "code",
      "execution_count": null,
      "metadata": {
        "colab": {
          "base_uri": "https://localhost:8080/"
        },
        "id": "31d_18sn4-VZ",
        "outputId": "a9684a8a-6508-4f14-9240-4c74aeee8b76"
      },
      "outputs": [
        {
          "output_type": "stream",
          "name": "stdout",
          "text": [
            "Looking in indexes: https://pypi.org/simple, https://us-python.pkg.dev/colab-wheels/public/simple/\n",
            "Collecting youtube_search\n",
            "  Downloading youtube_search-2.1.2-py3-none-any.whl (3.4 kB)\n",
            "Requirement already satisfied: requests in /usr/local/lib/python3.9/dist-packages (from youtube_search) (2.27.1)\n",
            "Requirement already satisfied: idna<4,>=2.5 in /usr/local/lib/python3.9/dist-packages (from requests->youtube_search) (3.4)\n",
            "Requirement already satisfied: charset-normalizer~=2.0.0 in /usr/local/lib/python3.9/dist-packages (from requests->youtube_search) (2.0.12)\n",
            "Requirement already satisfied: certifi>=2017.4.17 in /usr/local/lib/python3.9/dist-packages (from requests->youtube_search) (2022.12.7)\n",
            "Requirement already satisfied: urllib3<1.27,>=1.21.1 in /usr/local/lib/python3.9/dist-packages (from requests->youtube_search) (1.26.15)\n",
            "Installing collected packages: youtube_search\n",
            "Successfully installed youtube_search-2.1.2\n"
          ]
        }
      ],
      "source": [
        "pip install youtube_search"
      ]
    },
    {
      "cell_type": "code",
      "source": [
        "from youtube_search import YoutubeSearch\n",
        "\n",
        "import webbrowser\n",
        "mysong = input('Nhap vao ten bai hat: ')\n",
        "result = YoutubeSearch(mysong, max_results=10).to_dict()\n",
        "print(result)"
      ],
      "metadata": {
        "colab": {
          "base_uri": "https://localhost:8080/"
        },
        "id": "UF_LFsxc5MN6",
        "outputId": "b4237e2f-176a-469e-a51b-a2129b8313d0"
      },
      "execution_count": null,
      "outputs": [
        {
          "output_type": "stream",
          "name": "stdout",
          "text": [
            "Nhap vao ten bai hat: lối nhỏ\n",
            "[{'id': 'KKc_RMln5UY', 'thumbnails': ['https://i.ytimg.com/vi/KKc_RMln5UY/hq720.jpg?sqp=-oaymwEjCOgCEMoBSFryq4qpAxUIARUAAAAAGAElAADIQj0AgKJDeAE=&rs=AOn4CLBZnGozaB8IDhVI1qiBjlcifiBLBw', 'https://i.ytimg.com/vi/KKc_RMln5UY/hq720.jpg?sqp=-oaymwEXCNAFEJQDSFryq4qpAwkIARUAAIhCGAE=&rs=AOn4CLD1TYay4L03IjpW2bFMFz6crP-xHQ'], 'title': 'Đen - Lối Nhỏ ft. Phương Anh Đào (M/V)', 'long_desc': None, 'channel': 'Đen Vâu Official', 'duration': '4:57', 'views': '151,338,602 views', 'publish_time': '3 years ago', 'url_suffix': '/watch?v=KKc_RMln5UY&pp=ygULbOG7kWkgbmjhu48%3D'}, {'id': 'vPVtQ-Py8zE', 'thumbnails': ['https://i.ytimg.com/vi/vPVtQ-Py8zE/hq720.jpg?sqp=-oaymwE9COgCEMoBSFryq4qpAy8IARUAAAAAGAElAADIQj0AgKJDeAHwAQH4Ab4HgALQBYoCDAgAEAEYfyBBKBMwDw==&rs=AOn4CLBX2PA-OhxZ0PC4FuwK2It_z01PFA', 'https://i.ytimg.com/vi/vPVtQ-Py8zE/hq720.jpg?sqp=-oaymwExCNAFEJQDSFryq4qpAyMIARUAAIhCGAHwAQH4Ab4HgALQBYoCDAgAEAEYfyBBKBMwDw==&rs=AOn4CLAvGXWsjUokqGiawvcdW5M_cloxcw'], 'title': 'Lối Nhỏ - Lyrics ( Đen Vâu ft Phương Anh Đào)', 'long_desc': None, 'channel': 'XUBI NGUYEN', 'duration': '4:08', 'views': '1,215,733 views', 'publish_time': '2 years ago', 'url_suffix': '/watch?v=vPVtQ-Py8zE&pp=ygULbOG7kWkgbmjhu48%3D'}, {'id': 'TJT2PWE5vUE', 'thumbnails': ['https://i.ytimg.com/vi/TJT2PWE5vUE/hq720.jpg?sqp=-oaymwEjCOgCEMoBSFryq4qpAxUIARUAAAAAGAElAADIQj0AgKJDeAE=&rs=AOn4CLC1DLEUWVT_1gx0ESzfO8yDrPkJlg', 'https://i.ytimg.com/vi/TJT2PWE5vUE/hq720.jpg?sqp=-oaymwEXCNAFEJQDSFryq4qpAwkIARUAAIhCGAE=&rs=AOn4CLATF-htQEAurk1ahBJ4I_jeN7pLmg'], 'title': 'Qua Lối Nhỏ Vào Nhà Em Muốn Ghé Vào Thăm Sợ Ba Má Em Buồn Lòng Nói Với Người Tình Lofi Đạt Long Vinh', 'long_desc': None, 'channel': 'NHẠC XƯA LOFI', 'duration': '1:00:05', 'views': '71,832 views', 'publish_time': '8 months ago', 'url_suffix': '/watch?v=TJT2PWE5vUE&pp=ygULbOG7kWkgbmjhu48%3D'}, {'id': 'CImBCJxa4a4', 'thumbnails': ['https://i.ytimg.com/vi/CImBCJxa4a4/hq720.jpg?sqp=-oaymwEjCOgCEMoBSFryq4qpAxUIARUAAAAAGAElAADIQj0AgKJDeAE=&rs=AOn4CLB3AXx1tHlntmjFj7wmVAq97GYnVA', 'https://i.ytimg.com/vi/CImBCJxa4a4/hq720.jpg?sqp=-oaymwEXCNAFEJQDSFryq4qpAwkIARUAAIhCGAE=&rs=AOn4CLCi5caceBsDXUTWzJmbmTZgiZBH6A'], 'title': 'Đông Nhi & Đen Vâu | Lối Nhỏ - Khóc', 'long_desc': None, 'channel': 'ĐÔNG NHI', 'duration': '3:50', 'views': '10,054,599 views', 'publish_time': '2 years ago', 'url_suffix': '/watch?v=CImBCJxa4a4&pp=ygULbOG7kWkgbmjhu48%3D'}, {'id': 'mYjenjstDGM', 'thumbnails': ['https://i.ytimg.com/vi/mYjenjstDGM/hq720.jpg?sqp=-oaymwE9COgCEMoBSFryq4qpAy8IARUAAAAAGAElAADIQj0AgKJDeAHwAQH4Ac4FgAKACooCDAgAEAEYZSBlKGUwDw==&rs=AOn4CLCzBg8lDdE_EvpZNGlkfP7ZKiVLSg', 'https://i.ytimg.com/vi/mYjenjstDGM/hq720.jpg?sqp=-oaymwExCNAFEJQDSFryq4qpAyMIARUAAIhCGAHwAQH4Ac4FgAKACooCDAgAEAEYZSBlKGUwDw==&rs=AOn4CLBeYBFim9xVZLzfo9XKsL-iMbTq9w'], 'title': '[Live Ngẫu Hứng] Lối Nhỏ x Nghe Bài Này Đi Em - Củ Cải ( Beat prod by Whisky)', 'long_desc': None, 'channel': 'Củ Cải 1805', 'duration': '3:19', 'views': '7,264,142 views', 'publish_time': '2 years ago', 'url_suffix': '/watch?v=mYjenjstDGM&pp=ygULbOG7kWkgbmjhu48%3D'}, {'id': 'PReqqNdMGJI', 'thumbnails': ['https://i.ytimg.com/vi/PReqqNdMGJI/hqdefault.jpg?sqp=-oaymwE9COADEI4CSFryq4qpAy8IARUAAAAAGAElAADIQj0AgKJDeAHwAQH4Ae4DgALAAooCDAgAEAEYXiBeKF4wDw==&rs=AOn4CLCaGJmQfscWE0NFbb0959KlanMJyw'], 'title': 'Lối Nhỏ- 1Hours', 'long_desc': None, 'channel': 'Salut la Rochelle', 'duration': '1:02:01', 'views': '16,333 views', 'publish_time': '1 year ago', 'url_suffix': '/watch?v=PReqqNdMGJI&pp=ygULbOG7kWkgbmjhu48%3D'}, {'id': 'CsHixDM2cQQ', 'thumbnails': ['https://i.ytimg.com/vi/CsHixDM2cQQ/hqdefault.jpg?sqp=-oaymwEjCOADEI4CSFryq4qpAxUIARUAAAAAGAElAADIQj0AgKJDeAE=&rs=AOn4CLDKEo32VXKhxSpENWJSF559SJRBDA'], 'title': 'Phim Ngắn “ Lối Nhỏ “ Tập1 ( BoHo Flim )', 'long_desc': None, 'channel': 'BoHo Flim', 'duration': '6:53', 'views': '1,306 views', 'publish_time': '4 weeks ago', 'url_suffix': '/watch?v=CsHixDM2cQQ&pp=ygULbOG7kWkgbmjhu48%3D'}, {'id': 'FfXAmPfpOo0', 'thumbnails': ['https://i.ytimg.com/vi/FfXAmPfpOo0/hq720.jpg?sqp=-oaymwEjCOgCEMoBSFryq4qpAxUIARUAAAAAGAElAADIQj0AgKJDeAE=&rs=AOn4CLAy_GY6rOvMviWch5_HUmpjpqR9RQ', 'https://i.ytimg.com/vi/FfXAmPfpOo0/hq720.jpg?sqp=-oaymwEXCNAFEJQDSFryq4qpAwkIARUAAIhCGAE=&rs=AOn4CLA4Djl-_KKrPUGWlMo3kqw6zVxsew'], 'title': 'Qua lối nhỏ vào nhà em muốn ghé vào thăm sợ... Đạt Long Vinh - Nói Với Người Tình (Lofi ver)', 'long_desc': None, 'channel': 'NHẠC XƯA LOFI', 'duration': '1:01:30', 'views': '16,711 views', 'publish_time': '2 days ago', 'url_suffix': '/watch?v=FfXAmPfpOo0&pp=ygULbOG7kWkgbmjhu48%3D'}, {'id': 'ddaEtFOsFeM', 'thumbnails': ['https://i.ytimg.com/vi/ddaEtFOsFeM/hq720.jpg?sqp=-oaymwEjCOgCEMoBSFryq4qpAxUIARUAAAAAGAElAADIQj0AgKJDeAE=&rs=AOn4CLAa3zlQQg2_As_b0K4fptSqJuMtcw', 'https://i.ytimg.com/vi/ddaEtFOsFeM/hq720.jpg?sqp=-oaymwEXCNAFEJQDSFryq4qpAwkIARUAAIhCGAE=&rs=AOn4CLDRaM6fDXHjhTuJ0vPC9d95XZwSvA'], 'title': 'Đen ft. MIN - Bài Này Chill Phết (M/V)', 'long_desc': None, 'channel': 'Đen Vâu Official', 'duration': '4:34', 'views': '176,615,304 views', 'publish_time': '3 years ago', 'url_suffix': '/watch?v=ddaEtFOsFeM&pp=ygULbOG7kWkgbmjhu48%3D'}, {'id': 'zNw8c63wR5w', 'thumbnails': ['https://i.ytimg.com/vi/zNw8c63wR5w/hq720.jpg?sqp=-oaymwEjCOgCEMoBSFryq4qpAxUIARUAAAAAGAElAADIQj0AgKJDeAE=&rs=AOn4CLAeY0DcpyAZ5hwLJPxPmMEp8n62Yw', 'https://i.ytimg.com/vi/zNw8c63wR5w/hq720.jpg?sqp=-oaymwEXCNAFEJQDSFryq4qpAwkIARUAAIhCGAE=&rs=AOn4CLCOr4od-_ahhwn66Ypp2hZ1jqChIg'], 'title': 'Rất muốn vẫn còn nhỏ | 多想还小 - 豆包 | PolC Remix', 'long_desc': None, 'channel': 'PolC', 'duration': '2:09', 'views': '2 views', 'publish_time': '37 minutes ago', 'url_suffix': '/watch?v=zNw8c63wR5w&pp=ygULbOG7kWkgbmjhu48%3D'}]\n"
          ]
        }
      ]
    },
    {
      "cell_type": "code",
      "source": [
        "print(result[0]['url_suffix'])"
      ],
      "metadata": {
        "colab": {
          "base_uri": "https://localhost:8080/"
        },
        "id": "AF1-OyTP5W14",
        "outputId": "b262f16a-4806-4ffe-f00a-d253c2a1b4af"
      },
      "execution_count": null,
      "outputs": [
        {
          "output_type": "stream",
          "name": "stdout",
          "text": [
            "/watch?v=KKc_RMln5UY&pp=ygULbOG7kWkgbmjhu48%3D\n"
          ]
        }
      ]
    },
    {
      "cell_type": "code",
      "source": [
        "url = 'http://www.youtube.com'+ result[0]['url_suffix']\n",
        "print(url)"
      ],
      "metadata": {
        "colab": {
          "base_uri": "https://localhost:8080/"
        },
        "id": "7QejASze6gRd",
        "outputId": "921991d7-fbcc-4e06-ad85-b85e970a0c78"
      },
      "execution_count": null,
      "outputs": [
        {
          "output_type": "stream",
          "name": "stdout",
          "text": [
            "http://www.youtube.com/watch?v=KKc_RMln5UY&pp=ygULbOG7kWkgbmjhu48%3D\n"
          ]
        }
      ]
    },
    {
      "cell_type": "code",
      "source": [
        "webbrowser.open(url)"
      ],
      "metadata": {
        "colab": {
          "base_uri": "https://localhost:8080/"
        },
        "id": "05hdt0ee65ks",
        "outputId": "21dfb78d-c3d3-47f9-a508-549845ab59b7"
      },
      "execution_count": null,
      "outputs": [
        {
          "output_type": "execute_result",
          "data": {
            "text/plain": [
              "False"
            ]
          },
          "metadata": {},
          "execution_count": 8
        }
      ]
    },
    {
      "cell_type": "code",
      "source": [
        "for i in range(10):\n",
        "  url = 'http://www.youtube.com'+ result[i]['url_suffix']\n",
        "  print(url)"
      ],
      "metadata": {
        "colab": {
          "base_uri": "https://localhost:8080/"
        },
        "id": "XeznD8W27DkA",
        "outputId": "6cfafe39-7c2d-4368-b08c-d24dbafd8e8a"
      },
      "execution_count": null,
      "outputs": [
        {
          "output_type": "stream",
          "name": "stdout",
          "text": [
            "http://www.youtube.com/watch?v=KKc_RMln5UY&pp=ygULbOG7kWkgbmjhu48%3D\n",
            "http://www.youtube.com/watch?v=vPVtQ-Py8zE&pp=ygULbOG7kWkgbmjhu48%3D\n",
            "http://www.youtube.com/watch?v=TJT2PWE5vUE&pp=ygULbOG7kWkgbmjhu48%3D\n",
            "http://www.youtube.com/watch?v=CImBCJxa4a4&pp=ygULbOG7kWkgbmjhu48%3D\n",
            "http://www.youtube.com/watch?v=mYjenjstDGM&pp=ygULbOG7kWkgbmjhu48%3D\n",
            "http://www.youtube.com/watch?v=PReqqNdMGJI&pp=ygULbOG7kWkgbmjhu48%3D\n",
            "http://www.youtube.com/watch?v=CsHixDM2cQQ&pp=ygULbOG7kWkgbmjhu48%3D\n",
            "http://www.youtube.com/watch?v=FfXAmPfpOo0&pp=ygULbOG7kWkgbmjhu48%3D\n",
            "http://www.youtube.com/watch?v=ddaEtFOsFeM&pp=ygULbOG7kWkgbmjhu48%3D\n",
            "http://www.youtube.com/watch?v=zNw8c63wR5w&pp=ygULbOG7kWkgbmjhu48%3D\n"
          ]
        }
      ]
    },
    {
      "cell_type": "code",
      "source": [
        "pip install openpyxl"
      ],
      "metadata": {
        "colab": {
          "base_uri": "https://localhost:8080/"
        },
        "id": "joT9CiY473HD",
        "outputId": "fbd1216d-8164-4611-f752-6fc91d96731c"
      },
      "execution_count": null,
      "outputs": [
        {
          "output_type": "stream",
          "name": "stdout",
          "text": [
            "Looking in indexes: https://pypi.org/simple, https://us-python.pkg.dev/colab-wheels/public/simple/\n",
            "Requirement already satisfied: openpyxl in /usr/local/lib/python3.9/dist-packages (3.0.10)\n",
            "Requirement already satisfied: et-xmlfile in /usr/local/lib/python3.9/dist-packages (from openpyxl) (1.1.0)\n"
          ]
        }
      ]
    },
    {
      "cell_type": "code",
      "source": [
        "from openpyxl import Workbook\n",
        "from youtube_search import YoutubeSearch\n",
        "import webbrowser\n",
        "data = Workbook()\n",
        "sheet = data.active\n",
        "mysong = input('Xin moi ban chon bai hat: ')\n",
        "result = YoutubeSearch(mysong, max_results = 10).to_dict()\n",
        "for i in range(10):\n",
        "  print(result[i]['title'])\n",
        "  print(result[i]['url_suffix'])\n",
        "  url = 'http://www.youtube.com' + result[i]['url_suffix']\n",
        "  print(url)\n",
        "  sheet['A' + str(i + 1)] = i + 1\n",
        "  sheet['B' + str(i + 1)] = result[i]['title']\n",
        "  sheet['c' + str(i + 1)] = result[i]['url_suffix']\n",
        "  sheet['D' + str(i + 1)] = result[i]['views']\n",
        "  sheet['E' + str(i + 1)] = result[i]['long_desc']\n",
        "  sheet['F' + str(i + 1)] = result[i]['channel']\n",
        "  sheet['G' + str(i + 1)] = result[i]['duration']\n",
        "  sheet['G' + str(i + 1)] = result[i]['publish_time'] \n",
        "\n",
        "\n",
        "data.save('UTE.xlsx')"
      ],
      "metadata": {
        "colab": {
          "base_uri": "https://localhost:8080/"
        },
        "id": "GwGpux3p8Mo2",
        "outputId": "03b62c27-ba08-4b25-bec2-7878271f1881"
      },
      "execution_count": null,
      "outputs": [
        {
          "output_type": "stream",
          "name": "stdout",
          "text": [
            "Xin moi ban chon bai hat: lối nhỏ\n",
            "Đen - Lối Nhỏ ft. Phương Anh Đào (M/V)\n",
            "/watch?v=KKc_RMln5UY&pp=ygULbOG7kWkgbmjhu48%3D\n",
            "http://www.youtube.com/watch?v=KKc_RMln5UY&pp=ygULbOG7kWkgbmjhu48%3D\n",
            "Lối Nhỏ - Lyrics ( Đen Vâu ft Phương Anh Đào)\n",
            "/watch?v=vPVtQ-Py8zE&pp=ygULbOG7kWkgbmjhu48%3D\n",
            "http://www.youtube.com/watch?v=vPVtQ-Py8zE&pp=ygULbOG7kWkgbmjhu48%3D\n",
            "Qua Lối Nhỏ Vào Nhà Em, Thành Phố Buồn🛑 Nhạc Trữ Tình Hay Nhất 2023 - Lk Bolero Nhạc Vàng Xưa\n",
            "/watch?v=y2go3do9QFg&pp=ygULbOG7kWkgbmjhu48%3D\n",
            "http://www.youtube.com/watch?v=y2go3do9QFg&pp=ygULbOG7kWkgbmjhu48%3D\n",
            "Qua lối nhỏ vào nhà em muốn ghé vào thăm sợ... Đạt Long Vinh - Nói Với Người Tình (Lofi ver)\n",
            "/watch?v=FfXAmPfpOo0&pp=ygULbOG7kWkgbmjhu48%3D\n",
            "http://www.youtube.com/watch?v=FfXAmPfpOo0&pp=ygULbOG7kWkgbmjhu48%3D\n",
            "Đông Nhi & Đen Vâu | Lối Nhỏ - Khóc\n",
            "/watch?v=CImBCJxa4a4&pp=ygULbOG7kWkgbmjhu48%3D\n",
            "http://www.youtube.com/watch?v=CImBCJxa4a4&pp=ygULbOG7kWkgbmjhu48%3D\n",
            "Lối Nhỏ- 1Hours\n",
            "/watch?v=PReqqNdMGJI&pp=ygULbOG7kWkgbmjhu48%3D\n",
            "http://www.youtube.com/watch?v=PReqqNdMGJI&pp=ygULbOG7kWkgbmjhu48%3D\n",
            "[Live Ngẫu Hứng] Lối Nhỏ x Nghe Bài Này Đi Em - Củ Cải ( Beat prod by Whisky)\n",
            "/watch?v=mYjenjstDGM&pp=ygULbOG7kWkgbmjhu48%3D\n",
            "http://www.youtube.com/watch?v=mYjenjstDGM&pp=ygULbOG7kWkgbmjhu48%3D\n",
            "Phim Ngắn “ Lối Nhỏ “ Tập1 ( BoHo Flim )\n",
            "/watch?v=CsHixDM2cQQ&pp=ygULbOG7kWkgbmjhu48%3D\n",
            "http://www.youtube.com/watch?v=CsHixDM2cQQ&pp=ygULbOG7kWkgbmjhu48%3D\n",
            "Đen ft. MIN - Bài Này Chill Phết (M/V)\n",
            "/watch?v=ddaEtFOsFeM&pp=ygULbOG7kWkgbmjhu48%3D\n",
            "http://www.youtube.com/watch?v=ddaEtFOsFeM&pp=ygULbOG7kWkgbmjhu48%3D\n",
            "TRÊN LỐI NHỎ - MAI TRUNG TÍN (Audio Official)\n",
            "/watch?v=Y9d9X401nRs&pp=ygULbOG7kWkgbmjhu48%3D\n",
            "http://www.youtube.com/watch?v=Y9d9X401nRs&pp=ygULbOG7kWkgbmjhu48%3D\n"
          ]
        }
      ]
    },
    {
      "cell_type": "code",
      "source": [
        "pip install SpeechRecognition pydub"
      ],
      "metadata": {
        "colab": {
          "base_uri": "https://localhost:8080/"
        },
        "id": "bmvYRIbo-rZE",
        "outputId": "3c2fbd54-2ee8-4d32-a73b-127e4363b5d3"
      },
      "execution_count": null,
      "outputs": [
        {
          "output_type": "stream",
          "name": "stdout",
          "text": [
            "Looking in indexes: https://pypi.org/simple, https://us-python.pkg.dev/colab-wheels/public/simple/\n",
            "Requirement already satisfied: SpeechRecognition in /usr/local/lib/python3.9/dist-packages (3.10.0)\n",
            "Collecting pydub\n",
            "  Downloading pydub-0.25.1-py2.py3-none-any.whl (32 kB)\n",
            "Requirement already satisfied: requests>=2.26.0 in /usr/local/lib/python3.9/dist-packages (from SpeechRecognition) (2.27.1)\n",
            "Requirement already satisfied: charset-normalizer~=2.0.0 in /usr/local/lib/python3.9/dist-packages (from requests>=2.26.0->SpeechRecognition) (2.0.12)\n",
            "Requirement already satisfied: idna<4,>=2.5 in /usr/local/lib/python3.9/dist-packages (from requests>=2.26.0->SpeechRecognition) (3.4)\n",
            "Requirement already satisfied: certifi>=2017.4.17 in /usr/local/lib/python3.9/dist-packages (from requests>=2.26.0->SpeechRecognition) (2022.12.7)\n",
            "Requirement already satisfied: urllib3<1.27,>=1.21.1 in /usr/local/lib/python3.9/dist-packages (from requests>=2.26.0->SpeechRecognition) (1.26.15)\n",
            "Installing collected packages: pydub\n",
            "Successfully installed pydub-0.25.1\n"
          ]
        }
      ]
    },
    {
      "cell_type": "code",
      "source": [
        "file = '/content/drive/MyDrive/male.wav'\n",
        "import speech_recognition as sr\n",
        "r = sr.Recognizer()\n",
        "with sr.AudioFile(file) as source:\n",
        "  audio_data = r.record(source)\n",
        "  text = r.recognize_google(audio_data)\n",
        "  print(text)"
      ],
      "metadata": {
        "colab": {
          "base_uri": "https://localhost:8080/"
        },
        "id": "JLgYiXJMBtAj",
        "outputId": "60769ab4-12fc-4e48-9819-a3df6ae6eb7e"
      },
      "execution_count": null,
      "outputs": [
        {
          "output_type": "stream",
          "name": "stdout",
          "text": [
            "what if somebody decides to break it be careful that you keep adequate coverage but look for places to save money baby it's taking longer to get things squared away than the bankers expected during the wife for once company may win her tax hated retirement income as helpful as our cost on the two naked bone when the title of this type of song is in question there's no dying or waxing or gassing needed maybe personalized leather hard place work on a flat surface and smooth out the simplest kind of separate system uses a single self-contained unit the old shop at it still holds a good mechanic is usually a bad boss both figures would go higher in later years doll houses at set\n"
          ]
        }
      ]
    },
    {
      "cell_type": "code",
      "source": [
        "file = '/content/drive/MyDrive/male.wav'\n",
        "import speech_recognition as sr\n",
        "r = sr.Recognizer()\n",
        "with sr.AudioFile(file) as source:\n",
        "  audio1 = r.record(source,duration = 4)\n",
        "  audio2 = r.record(source,duration = 10)\n",
        "  audio3 = r.record(source,offset = 4, duration = 10)\n",
        "print(r.recognize_google(audio1))\n",
        "print(r.recognize_google(audio2))\n",
        "print(r.recognize_google(audio3))"
      ],
      "metadata": {
        "colab": {
          "base_uri": "https://localhost:8080/"
        },
        "id": "JZtrZWsJEFKg",
        "outputId": "503a19bc-3475-4d6f-bbc7-013fe4072fcb"
      },
      "execution_count": null,
      "outputs": [
        {
          "output_type": "stream",
          "name": "stdout",
          "text": [
            "what if somebody decides to break it be careful that you keep attic\n",
            "but look for places to save money baby it's taking longer to get things squared away than the bankers expected hiring the Y for one company may win her tie\n",
            "Elsa saving Rags are hers latest on the two naked bone into when the title of this type of song is in question there's no dying or waxing\n"
          ]
        }
      ]
    },
    {
      "cell_type": "code",
      "source": [
        "from gtts import gTTS\n",
        "import os\n",
        "\n",
        "A = '早上好中国 现在我有冰激 我很喜欢冰激淋'\n",
        "speak = gTTS(text=A, lang= 'zh', slow = False)\n",
        "speak.save('Bingchilling.mp3')\n",
        "\n",
        "#playsound('Speech.mp3')\n",
        "#os.remove('Speech.mp3')\n",
        "print(text)"
      ],
      "metadata": {
        "colab": {
          "base_uri": "https://localhost:8080/"
        },
        "id": "63dHkcCSM-5b",
        "outputId": "16b904c0-a51f-4822-ecf3-f3cad805cadc"
      },
      "execution_count": 45,
      "outputs": [
        {
          "output_type": "stream",
          "name": "stdout",
          "text": [
            "what if somebody decides to break it be careful that you keep adequate coverage but look for places to save money baby it's taking longer to get things squared away than the bankers expected during the wife for once company may win her tax hated retirement income as helpful as our cost on the two naked bone when the title of this type of song is in question there's no dying or waxing or gassing needed maybe personalized leather hard place work on a flat surface and smooth out the simplest kind of separate system uses a single self-contained unit the old shop at it still holds a good mechanic is usually a bad boss both figures would go higher in later years doll houses at set\n"
          ]
        }
      ]
    },
    {
      "cell_type": "code",
      "source": [
        "from gtts import gTTS\n",
        "import os\n",
        "\n",
        "A = 'anh yêu em I love you'\n",
        "speak = gTTS(text=A, lang= 'vi', slow = False)\n",
        "speak.save('viet3.mp3')\n",
        "\n",
        "#playsound('Speech.mp3')\n",
        "#os.remove('Speech.mp3')\n",
        "print(text)"
      ],
      "metadata": {
        "colab": {
          "base_uri": "https://localhost:8080/"
        },
        "id": "8Y0p7rp4NHg3",
        "outputId": "a96bedfd-71e6-4467-ce53-3f9143999263"
      },
      "execution_count": 42,
      "outputs": [
        {
          "output_type": "stream",
          "name": "stdout",
          "text": [
            "what if somebody decides to break it be careful that you keep adequate coverage but look for places to save money baby it's taking longer to get things squared away than the bankers expected during the wife for once company may win her tax hated retirement income as helpful as our cost on the two naked bone when the title of this type of song is in question there's no dying or waxing or gassing needed maybe personalized leather hard place work on a flat surface and smooth out the simplest kind of separate system uses a single self-contained unit the old shop at it still holds a good mechanic is usually a bad boss both figures would go higher in later years doll houses at set\n"
          ]
        }
      ]
    },
    {
      "cell_type": "code",
      "source": [
        "from gtts import gTTS\n",
        "import os\n",
        "\n",
        "A = 'Duang jai duang nee kaung chun hai tur laaw\\\n",
        "Kau hai tur son jai chin dai reu plow\\\n",
        "Tur tum chi wit chun mee kwarm mai\\\n",
        "Tur ku kon sum kun kaung chun ruk tur'\n",
        "speak = gTTS(text=A, lang= 'th', slow = False)\n",
        "speak.save('viet5.mp3')\n",
        "\n",
        "#playsound('Speech.mp3')\n",
        "#os.remove('Speech.mp3')\n",
        "print(text)"
      ],
      "metadata": {
        "colab": {
          "base_uri": "https://localhost:8080/"
        },
        "id": "JPfeRnsvNb8e",
        "outputId": "d2abd33a-4360-4721-8c36-6634e3041f3e"
      },
      "execution_count": 44,
      "outputs": [
        {
          "output_type": "stream",
          "name": "stdout",
          "text": [
            "what if somebody decides to break it be careful that you keep adequate coverage but look for places to save money baby it's taking longer to get things squared away than the bankers expected during the wife for once company may win her tax hated retirement income as helpful as our cost on the two naked bone when the title of this type of song is in question there's no dying or waxing or gassing needed maybe personalized leather hard place work on a flat surface and smooth out the simplest kind of separate system uses a single self-contained unit the old shop at it still holds a good mechanic is usually a bad boss both figures would go higher in later years doll houses at set\n"
          ]
        }
      ]
    },
    {
      "cell_type": "code",
      "source": [
        "pip install googletrans==3.1.0a0"
      ],
      "metadata": {
        "colab": {
          "base_uri": "https://localhost:8080/",
          "height": 997
        },
        "id": "_XFMaUz9RVCm",
        "outputId": "65c84e42-5fe2-4e4f-cc46-6191d7fe1fda"
      },
      "execution_count": 49,
      "outputs": [
        {
          "output_type": "stream",
          "name": "stdout",
          "text": [
            "Looking in indexes: https://pypi.org/simple, https://us-python.pkg.dev/colab-wheels/public/simple/\n",
            "Collecting googletrans==3.1.0a0\n",
            "  Downloading googletrans-3.1.0a0.tar.gz (19 kB)\n",
            "  Preparing metadata (setup.py) ... \u001b[?25l\u001b[?25hdone\n",
            "Collecting httpx==0.13.3\n",
            "  Downloading httpx-0.13.3-py3-none-any.whl (55 kB)\n",
            "\u001b[2K     \u001b[90m━━━━━━━━━━━━━━━━━━━━━━━━━━━━━━━━━━━━━━━━\u001b[0m \u001b[32m55.1/55.1 kB\u001b[0m \u001b[31m2.7 MB/s\u001b[0m eta \u001b[36m0:00:00\u001b[0m\n",
            "\u001b[?25hRequirement already satisfied: certifi in /usr/local/lib/python3.9/dist-packages (from httpx==0.13.3->googletrans==3.1.0a0) (2022.12.7)\n",
            "Collecting idna==2.*\n",
            "  Downloading idna-2.10-py2.py3-none-any.whl (58 kB)\n",
            "\u001b[2K     \u001b[90m━━━━━━━━━━━━━━━━━━━━━━━━━━━━━━━━━━━━━━━━\u001b[0m \u001b[32m58.8/58.8 kB\u001b[0m \u001b[31m9.2 MB/s\u001b[0m eta \u001b[36m0:00:00\u001b[0m\n",
            "\u001b[?25hCollecting chardet==3.*\n",
            "  Downloading chardet-3.0.4-py2.py3-none-any.whl (133 kB)\n",
            "\u001b[2K     \u001b[90m━━━━━━━━━━━━━━━━━━━━━━━━━━━━━━━━━━━━━━━\u001b[0m \u001b[32m133.4/133.4 kB\u001b[0m \u001b[31m8.1 MB/s\u001b[0m eta \u001b[36m0:00:00\u001b[0m\n",
            "\u001b[?25hRequirement already satisfied: sniffio in /usr/local/lib/python3.9/dist-packages (from httpx==0.13.3->googletrans==3.1.0a0) (1.3.0)\n",
            "Collecting hstspreload\n",
            "  Downloading hstspreload-2023.1.1-py3-none-any.whl (1.5 MB)\n",
            "\u001b[2K     \u001b[90m━━━━━━━━━━━━━━━━━━━━━━━━━━━━━━━━━━━━━━━━\u001b[0m \u001b[32m1.5/1.5 MB\u001b[0m \u001b[31m32.6 MB/s\u001b[0m eta \u001b[36m0:00:00\u001b[0m\n",
            "\u001b[?25hCollecting rfc3986<2,>=1.3\n",
            "  Downloading rfc3986-1.5.0-py2.py3-none-any.whl (31 kB)\n",
            "Collecting httpcore==0.9.*\n",
            "  Downloading httpcore-0.9.1-py3-none-any.whl (42 kB)\n",
            "\u001b[2K     \u001b[90m━━━━━━━━━━━━━━━━━━━━━━━━━━━━━━━━━━━━━━━━\u001b[0m \u001b[32m42.6/42.6 kB\u001b[0m \u001b[31m5.4 MB/s\u001b[0m eta \u001b[36m0:00:00\u001b[0m\n",
            "\u001b[?25hCollecting h2==3.*\n",
            "  Downloading h2-3.2.0-py2.py3-none-any.whl (65 kB)\n",
            "\u001b[2K     \u001b[90m━━━━━━━━━━━━━━━━━━━━━━━━━━━━━━━━━━━━━━━━\u001b[0m \u001b[32m65.0/65.0 kB\u001b[0m \u001b[31m9.4 MB/s\u001b[0m eta \u001b[36m0:00:00\u001b[0m\n",
            "\u001b[?25hCollecting h11<0.10,>=0.8\n",
            "  Downloading h11-0.9.0-py2.py3-none-any.whl (53 kB)\n",
            "\u001b[2K     \u001b[90m━━━━━━━━━━━━━━━━━━━━━━━━━━━━━━━━━━━━━━━━\u001b[0m \u001b[32m53.6/53.6 kB\u001b[0m \u001b[31m8.0 MB/s\u001b[0m eta \u001b[36m0:00:00\u001b[0m\n",
            "\u001b[?25hCollecting hyperframe<6,>=5.2.0\n",
            "  Downloading hyperframe-5.2.0-py2.py3-none-any.whl (12 kB)\n",
            "Collecting hpack<4,>=3.0\n",
            "  Downloading hpack-3.0.0-py2.py3-none-any.whl (38 kB)\n",
            "Building wheels for collected packages: googletrans\n",
            "  Building wheel for googletrans (setup.py) ... \u001b[?25l\u001b[?25hdone\n",
            "  Created wheel for googletrans: filename=googletrans-3.1.0a0-py3-none-any.whl size=16368 sha256=5aec0f2578bbdff1a64a0e511ef73657e98ec577a1fdd4bba4806db03ed5ed57\n",
            "  Stored in directory: /root/.cache/pip/wheels/ae/e1/6c/5137bc3f35aa130deea71575e165cc4f4f0680a88f3d90a636\n",
            "Successfully built googletrans\n",
            "Installing collected packages: rfc3986, hyperframe, hpack, h11, chardet, idna, hstspreload, h2, httpcore, httpx, googletrans\n",
            "  Attempting uninstall: chardet\n",
            "    Found existing installation: chardet 4.0.0\n",
            "    Uninstalling chardet-4.0.0:\n",
            "      Successfully uninstalled chardet-4.0.0\n",
            "  Attempting uninstall: idna\n",
            "    Found existing installation: idna 3.4\n",
            "    Uninstalling idna-3.4:\n",
            "      Successfully uninstalled idna-3.4\n",
            "Successfully installed chardet-3.0.4 googletrans-3.1.0a0 h11-0.9.0 h2-3.2.0 hpack-3.0.0 hstspreload-2023.1.1 httpcore-0.9.1 httpx-0.13.3 hyperframe-5.2.0 idna-2.10 rfc3986-1.5.0\n"
          ]
        },
        {
          "output_type": "display_data",
          "data": {
            "application/vnd.colab-display-data+json": {
              "pip_warning": {
                "packages": [
                  "chardet",
                  "idna"
                ]
              }
            }
          },
          "metadata": {}
        }
      ]
    },
    {
      "cell_type": "code",
      "source": [
        "from googletrans import Translator\n",
        "translator =  Translator()\n",
        "translation = translator.translate('Này cô bé ơi',dest = 'ru')\n",
        "print(translation.text)\n"
      ],
      "metadata": {
        "colab": {
          "base_uri": "https://localhost:8080/"
        },
        "id": "ES7EyaxxR0M1",
        "outputId": "13f33530-688a-4292-e6f8-8efc167f542b"
      },
      "execution_count": 50,
      "outputs": [
        {
          "output_type": "stream",
          "name": "stdout",
          "text": [
            "Эй, девочка\n"
          ]
        }
      ]
    },
    {
      "cell_type": "code",
      "source": [],
      "metadata": {
        "id": "fcYK6AevT2CJ"
      },
      "execution_count": null,
      "outputs": []
    },
    {
      "cell_type": "code",
      "source": [
        "file = '/content/drive/MyDrive/male.wav'\n",
        "import speech_recognition as sr\n",
        "r = sr.Recognizer()\n",
        "with sr.AudioFile(file) as source:\n",
        "  audio_data = r.record(source)\n",
        "  text = r.recognize_google(audio_data)\n",
        "  print(text)"
      ],
      "metadata": {
        "colab": {
          "base_uri": "https://localhost:8080/"
        },
        "id": "Z4KZBOKJSbGE",
        "outputId": "5bf6905d-ff9c-4182-a476-2baec64438ac"
      },
      "execution_count": 52,
      "outputs": [
        {
          "output_type": "stream",
          "name": "stdout",
          "text": [
            "what if somebody decides to break it be careful that you keep adequate coverage but look for places to save money baby it's taking longer to get things squared away than the bankers expected during the wife for once company may win her tax hated retirement income as helpful as our cost on the two naked bone when the title of this type of song is in question there's no dying or waxing or gassing needed maybe personalized leather hard place work on a flat surface and smooth out the simplest kind of separate system uses a single self-contained unit the old shop at it still holds a good mechanic is usually a bad boss both figures would go higher in later years doll houses at set\n"
          ]
        }
      ]
    },
    {
      "cell_type": "code",
      "source": [
        "from googletrans import Translator\n",
        "translator =  Translator()\n",
        "translation = translator.translate(text,dest = 'ru')\n",
        "print(translation.text)"
      ],
      "metadata": {
        "colab": {
          "base_uri": "https://localhost:8080/"
        },
        "id": "fq0jkgAyT3XD",
        "outputId": "75bed83b-f197-475c-9607-faf8e33a837e"
      },
      "execution_count": 55,
      "outputs": [
        {
          "output_type": "stream",
          "name": "stdout",
          "text": [
            "что, если кто-то решит сломать его, будьте осторожны, чтобы у вас было достаточное страховое покрытие, но ищите места, чтобы сэкономить деньги, детка, это займет больше времени, чем ожидали банкиры во время жены, поскольку однажды компания может выиграть ее ненавистный налогами пенсионный доход, столь же полезный, как и наши затраты на две голые кости, когда речь идет о названии песни такого типа, нет необходимости в умирании, восковой или газовой обработке, может быть, персонализированная кожа, жесткая работа на плоской поверхности и сглаживание. в старом магазине все еще есть хороший механик, обычно плохой босс, обе цифры будут выше в последующие годы кукольные домики в наборе\n"
          ]
        }
      ]
    },
    {
      "cell_type": "code",
      "source": [
        "from gtts import gTTS\n",
        "import os\n",
        "\n",
        "speak = gTTS(text= translation.text, lang= 'ru', slow = False)\n",
        "speak.save('tiengnga.mp3')"
      ],
      "metadata": {
        "id": "cuF2ZaP3T_Os"
      },
      "execution_count": 56,
      "outputs": []
    },
    {
      "cell_type": "code",
      "source": [
        "pip install scipy"
      ],
      "metadata": {
        "colab": {
          "base_uri": "https://localhost:8080/"
        },
        "id": "R9_5VnEfbtZq",
        "outputId": "42712825-f8e4-4deb-acd4-172c23cc7897"
      },
      "execution_count": 61,
      "outputs": [
        {
          "output_type": "stream",
          "name": "stdout",
          "text": [
            "Looking in indexes: https://pypi.org/simple, https://us-python.pkg.dev/colab-wheels/public/simple/\n",
            "Requirement already satisfied: scipy in /usr/local/lib/python3.9/dist-packages (1.10.1)\n",
            "Requirement already satisfied: numpy<1.27.0,>=1.19.5 in /usr/local/lib/python3.9/dist-packages (from scipy) (1.22.4)\n"
          ]
        }
      ]
    },
    {
      "cell_type": "code",
      "source": [
        "pip install python_speech_features\n"
      ],
      "metadata": {
        "colab": {
          "base_uri": "https://localhost:8080/"
        },
        "id": "aSqukzbob9Vb",
        "outputId": "b0b067a1-7558-4988-b155-ab2c3a53e6b0"
      },
      "execution_count": 64,
      "outputs": [
        {
          "output_type": "stream",
          "name": "stdout",
          "text": [
            "Looking in indexes: https://pypi.org/simple, https://us-python.pkg.dev/colab-wheels/public/simple/\n",
            "Collecting python_speech_features\n",
            "  Downloading python_speech_features-0.6.tar.gz (5.6 kB)\n",
            "  Preparing metadata (setup.py) ... \u001b[?25l\u001b[?25hdone\n",
            "Building wheels for collected packages: python_speech_features\n",
            "  Building wheel for python_speech_features (setup.py) ... \u001b[?25l\u001b[?25hdone\n",
            "  Created wheel for python_speech_features: filename=python_speech_features-0.6-py3-none-any.whl size=5886 sha256=905d26a1d2d5f6ceab556090a26cfce3d43be10ef63e8237120b14c16f62dcef\n",
            "  Stored in directory: /root/.cache/pip/wheels/09/a1/04/08e2688d2562d8f9ff89e77c6ddfbf7268e07dae1a6f22455e\n",
            "Successfully built python_speech_features\n",
            "Installing collected packages: python_speech_features\n",
            "Successfully installed python_speech_features-0.6\n"
          ]
        }
      ]
    },
    {
      "cell_type": "markdown",
      "source": [
        "Chuyển âm thanh sang miển tần số\n",
        "\n"
      ],
      "metadata": {
        "id": "ZQvDVai8Y6fm"
      }
    },
    {
      "cell_type": "code",
      "source": [
        "import numpy as np\n",
        "import matplotlib.pyplot as plt\n",
        "from scipy.io import wavfile\n",
        "\n",
        "from python_speech_features import mfcc, logfbank\n",
        "\n",
        "frequency_sample, audio_signal = wavfile.read('/content/drive/MyDrive/Bingchilling (mp3cut.net).wav')\n",
        "audio_signal = audio_signal[:1500]\n",
        "feature_mfcc = mfcc(audio_signal, frequency_sample)\n",
        "print('\\nMFCC:\\n Number of windows = ',feature_mfcc.shape[0])\n",
        "print('Length of each feature: ', feature_mfcc.shape[1])\n",
        "\n",
        "\n"
      ],
      "metadata": {
        "colab": {
          "base_uri": "https://localhost:8080/"
        },
        "id": "Vr_BpG_3ZEvZ",
        "outputId": "f7c9cc4d-9155-4bbc-fa2b-c835062200a6"
      },
      "execution_count": 68,
      "outputs": [
        {
          "output_type": "stream",
          "name": "stderr",
          "text": [
            "WARNING:root:frame length (600) is greater than FFT size (512), frame will be truncated. Increase NFFT to avoid.\n"
          ]
        },
        {
          "output_type": "stream",
          "name": "stdout",
          "text": [
            "\n",
            "MFCC:\n",
            " Number of windows =  5\n",
            "Length of each feature:  13\n"
          ]
        }
      ]
    },
    {
      "cell_type": "code",
      "source": [
        "feature_mfcc = feature_mfcc.T\n",
        "plt.matshow(feature_mfcc)\n",
        "plt.title('MFCC')\n"
      ],
      "metadata": {
        "colab": {
          "base_uri": "https://localhost:8080/",
          "height": 911
        },
        "id": "XcmUy-I6cDKj",
        "outputId": "085dc98a-238e-4dc1-bad3-9bbc457d49d4"
      },
      "execution_count": 70,
      "outputs": [
        {
          "output_type": "execute_result",
          "data": {
            "text/plain": [
              "Text(0.5, 1.0, 'MFCC')"
            ]
          },
          "metadata": {},
          "execution_count": 70
        },
        {
          "output_type": "display_data",
          "data": {
            "text/plain": [
              "<Figure size 400x1040 with 1 Axes>"
            ],
            "image/png": "[encoded data removed]"
          },
          "metadata": {}
        }
      ]
    },
    {
      "cell_type": "code",
      "source": [
        "filterbank_feature = logfbank(audio_signal, frequency_sample)\n",
        "print('\\nFilter bank:\\n Number of windows =', filterbank_feature.shape[0])\n",
        "print('Length of and feature: ', filterbank_feature.shape[1])\n",
        "filterbank_feature = filterbank_feature.T\n",
        "plt.imshow(filterbank_feature)\n",
        "plt.title('filter bank')\n",
        "plt.show()"
      ],
      "metadata": {
        "colab": {
          "base_uri": "https://localhost:8080/",
          "height": 543
        },
        "id": "4QPaR0-zcEBx",
        "outputId": "71adfa4d-a3a8-4771-a519-08c48edd1aa9"
      },
      "execution_count": 71,
      "outputs": [
        {
          "output_type": "stream",
          "name": "stderr",
          "text": [
            "WARNING:root:frame length (600) is greater than FFT size (512), frame will be truncated. Increase NFFT to avoid.\n"
          ]
        },
        {
          "output_type": "stream",
          "name": "stdout",
          "text": [
            "\n",
            "Filter bank:\n",
            " Number of windows = 5\n",
            "Length of and feature:  26\n"
          ]
        },
        {
          "output_type": "display_data",
          "data": {
            "text/plain": [
              "<Figure size 640x480 with 1 Axes>"
            ],
            "image/png": "[encoded data removed]"
          },
          "metadata": {}
        }
      ]
    },
    {
      "cell_type": "code",
      "source": [
        "import numpy as np\n",
        "import matplotlib.pyplot as plt\n",
        "from scipy.io import wavfile\n",
        "\n",
        "from python_speech_features import mfcc, logfbank\n",
        "\n",
        "frequency_sample, audio_signal = wavfile.read('/content/Tieng-meo-keu-duoi-chuot-www_tiengdong_com (mp3cut.net).wav')\n",
        "audio_signal = audio_signal[:1500]\n",
        "feature_mfcc = mfcc(audio_signal, frequency_sample)\n",
        "print('\\nMFCC:\\n Number of windows = ',feature_mfcc.shape[0])\n",
        "print('Length of each feature: ', feature_mfcc.shape[1])\n",
        "\n",
        "feature_mfcc = feature_mfcc.T\n",
        "plt.matshow(feature_mfcc)\n",
        "plt.title('MFCC')\n",
        "\n",
        "filterbank_feature = logfbank(audio_signal, frequency_sample)\n",
        "print('\\nFilter bank:\\n Number of windows =', filterbank_feature.shape[0])\n",
        "print('Length of and feature: ', filterbank_feature.shape[1])\n",
        "filterbank_feature = filterbank_feature.T\n",
        "plt.imshow(filterbank_feature)\n",
        "plt.title('filter bank')\n",
        "plt.show()"
      ],
      "metadata": {
        "colab": {
          "base_uri": "https://localhost:8080/",
          "height": 1000
        },
        "id": "vlqwW6CIevuj",
        "outputId": "03d0e40f-fc28-4122-abce-7055e616f50b"
      },
      "execution_count": 72,
      "outputs": [
        {
          "output_type": "stream",
          "name": "stderr",
          "text": [
            "<ipython-input-72-87822e9b6b0a>:7: WavFileWarning: Reached EOF prematurely; finished at 10485760 bytes, expected 70317688 bytes from header.\n",
            "  frequency_sample, audio_signal = wavfile.read('/content/Tieng-meo-keu-duoi-chuot-www_tiengdong_com (mp3cut.net).wav')\n",
            "WARNING:root:frame length (1200) is greater than FFT size (512), frame will be truncated. Increase NFFT to avoid.\n",
            "WARNING:root:frame length (1200) is greater than FFT size (512), frame will be truncated. Increase NFFT to avoid.\n"
          ]
        },
        {
          "output_type": "stream",
          "name": "stdout",
          "text": [
            "\n",
            "MFCC:\n",
            " Number of windows =  5\n",
            "Length of each feature:  13\n",
            "\n",
            "Filter bank:\n",
            " Number of windows = 5\n",
            "Length of and feature:  26\n"
          ]
        },
        {
          "output_type": "display_data",
          "data": {
            "text/plain": [
              "<Figure size 400x1040 with 1 Axes>"
            ],
            "image/png": "[encoded data removed]"
          },
          "metadata": {}
        }
      ]
    }
  ]
}