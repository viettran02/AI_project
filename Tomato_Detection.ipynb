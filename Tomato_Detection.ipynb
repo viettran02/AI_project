{
  "nbformat": 4,
  "nbformat_minor": 0,
  "metadata": {
    "colab": {
      "private_outputs": true,
      "provenance": [],
      "gpuType": "T4",
      "mount_file_id": "1M2wn32gvF4wa11EKfR86B8NmTrx8MMCS",
      "authorship_tag": "ABX9TyO8AAQ91Zb9T2mkEQEPyUBy",
      "include_colab_link": true
    },
    "kernelspec": {
      "name": "python3",
      "display_name": "Python 3"
    },
    "language_info": {
      "name": "python"
    },
    "accelerator": "GPU",
    "gpuClass": "standard"
  },
  "cells": [
    {
      "cell_type": "markdown",
      "metadata": {
        "id": "view-in-github",
        "colab_type": "text"
      },
      "source": [
        "<a href=\"https://colab.research.google.com/github/viettran02/AI_project/blob/main/Tomato_Detection.ipynb\" target=\"_parent\"><img src=\"https://colab.research.google.com/assets/colab-badge.svg\" alt=\"Open In Colab\"/></a>"
      ]
    },
    {
      "cell_type": "code",
      "execution_count": null,
      "metadata": {
        "id": "RNmv1XTxbOhE"
      },
      "outputs": [],
      "source": [
        "import keras\n",
        "import os\n",
        "import numpy as np\n",
        "import matplotlib.pyplot as plt\n",
        "from glob import glob\n",
        "from keras.models import Sequential\n",
        "from keras.models import load_model\n",
        "from tensorflow.keras.preprocessing.image import load_img"
      ]
    },
    {
      "cell_type": "code",
      "source": [
        "from keras.layers import Dense, Dropout, Flatten,Activation\n",
        "from keras.layers import Conv2D, MaxPooling2D, Conv3D, BatchNormalization\n",
        "from tensorflow.keras.preprocessing.image import ImageDataGenerator, load_img,img_to_array"
      ],
      "metadata": {
        "id": "GQGml12hbaM2"
      },
      "execution_count": null,
      "outputs": []
    },
    {
      "cell_type": "code",
      "source": [
        "test_path=\"/content/drive/MyDrive/Data_Tomato/Test\"\n",
        "train_path=\"/content/drive/MyDrive/Data_Tomato/Train\"\n",
        "val_path=\"/content/drive/MyDrive/Data_Tomato/Val\""
      ],
      "metadata": {
        "id": "Y2vgCc_9bnAm"
      },
      "execution_count": null,
      "outputs": []
    },
    {
      "cell_type": "code",
      "source": [
        "train_datagen = ImageDataGenerator(rescale=1/255,\n",
        " rotation_range=0.2, #xoay hình\n",
        " horizontal_flip=True,\n",
        " vertical_flip=True,\n",
        " zoom_range=0.2)\n",
        "test_datagen = ImageDataGenerator(rescale=1/255)"
      ],
      "metadata": {
        "id": "dQwVYe1db2tV"
      },
      "execution_count": null,
      "outputs": []
    },
    {
      "cell_type": "code",
      "source": [
        "train_set = train_datagen.flow_from_directory(train_path,\n",
        " target_size=(150,150),\n",
        " batch_size=10,\n",
        " class_mode='categorical')\n",
        "test_set = test_datagen.flow_from_directory(test_path,\n",
        " target_size=(150,150),\n",
        " batch_size=10,\n",
        " class_mode='categorical')\n",
        "val_set = train_datagen.flow_from_directory(val_path,\n",
        " target_size=(150,150),\n",
        " batch_size=10,\n",
        " shuffle=True,\n",
        " class_mode='categorical')"
      ],
      "metadata": {
        "id": "WMKrRBGub6Zk"
      },
      "execution_count": null,
      "outputs": []
    },
    {
      "cell_type": "code",
      "source": [
        "model = Sequential()\n",
        "model.add(Conv2D(64, kernel_size=(3,3), activation='relu', input_shape=(\n",
        "150,150, 3)))\n",
        "model.add(MaxPooling2D(pool_size=(2,2)))\n",
        "model.add(Conv2D(32, kernel_size=(3,3), activation='relu'))\n",
        "model.add(MaxPooling2D(pool_size=(2,2)))\n",
        "model.add(Conv2D(16, kernel_size=(3,3), activation='relu'))\n",
        "model.add(MaxPooling2D(pool_size=(2,2)))\n",
        "model.add(Conv2D(8, kernel_size=(3,3), activation='relu'))\n",
        "model.add(MaxPooling2D(pool_size=(2,2)))\n",
        "model.add(Flatten())\n",
        "model.add(Activation(\"relu\"))\n",
        "model.add(Dense(1024))\n",
        "model.add(Dropout(0.4))\n",
        "model.add(Dense(2))\n",
        "model.add(Activation(\"softmax\"))\n",
        "model.compile(optimizer='adam', loss='binary_crossentropy', metrics=['accuracy'])\n",
        "model.summary()"
      ],
      "metadata": {
        "id": "a-NQzQIIcKP0"
      },
      "execution_count": null,
      "outputs": []
    },
    {
      "cell_type": "code",
      "source": [
        "history = model.fit_generator(train_set,\n",
        " steps_per_epoch=50,\n",
        " epochs=100,\n",
        " validation_data=test_set,\n",
        " validation_steps=200//10)"
      ],
      "metadata": {
        "id": "M2KUcJ5LcWTO"
      },
      "execution_count": null,
      "outputs": []
    },
    {
      "cell_type": "code",
      "source": [
        "model.save(\"/content/drive/MyDrive/Tomato_Detection.h5\")"
      ],
      "metadata": {
        "id": "CNvZVSiNPI00"
      },
      "execution_count": null,
      "outputs": []
    },
    {
      "cell_type": "code",
      "source": [
        "map_dict = { 0: \"Cà Chua\",1: \"Không phải quả Cà chua\"}\n",
        "img = load_img('/content/drive/MyDrive/tomato804.png',target_size=(150,150))\n",
        "plt.imshow(img)\n",
        "img = img_to_array(img)\n",
        "img = img.reshape(1,150,150,3)\n",
        "img = img.astype('float32')\n",
        "img = img/255\n",
        "model100=load_model(\"/content/drive/MyDrive/Tomato_Detection.h5\")\n",
        "prediction = model100.predict(img).argmax()\n",
        "plt.title(\"Nhận diện là: {}\".format(map_dict[prediction]))"
      ],
      "metadata": {
        "id": "uoDAgXFuOaE8"
      },
      "execution_count": null,
      "outputs": []
    },
    {
      "cell_type": "code",
      "source": [
        "map_dict = { 0: \"Cà Chua\",1: \"Không phải quả Cà chua\"}\n",
        "img = load_img('/content/drive/MyDrive/tao.jpg',target_size=(150,150))\n",
        "plt.imshow(img)\n",
        "img = img_to_array(img)\n",
        "img = img.reshape(1,150,150,3)\n",
        "img = img.astype('float32')\n",
        "img = img/255\n",
        "model100=load_model(\"/content/drive/MyDrive/Tomato_Detection.h5\")\n",
        "prediction = model100.predict(img).argmax()\n",
        "plt.title(\"Nhận diện là: {}\".format(map_dict[prediction]))"
      ],
      "metadata": {
        "id": "E39ClHHlZIIf"
      },
      "execution_count": null,
      "outputs": []
    }
  ]
}