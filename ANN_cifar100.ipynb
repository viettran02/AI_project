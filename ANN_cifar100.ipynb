{
  "nbformat": 4,
  "nbformat_minor": 0,
  "metadata": {
    "colab": {
      "provenance": [],
      "mount_file_id": "1BjSr3J7IqXF6XY_gan9lVC398ld-apgL",
      "authorship_tag": "ABX9TyNyP+aiGupwYSkAwtv28j7n",
      "include_colab_link": true
    },
    "kernelspec": {
      "name": "python3",
      "display_name": "Python 3"
    },
    "language_info": {
      "name": "python"
    }
  },
  "cells": [
    {
      "cell_type": "markdown",
      "metadata": {
        "id": "view-in-github",
        "colab_type": "text"
      },
      "source": [
        "<a href=\"https://colab.research.google.com/github/viettran02/AI_project/blob/main/ANN_cifar100.ipynb\" target=\"_parent\"><img src=\"https://colab.research.google.com/assets/colab-badge.svg\" alt=\"Open In Colab\"/></a>"
      ]
    },
    {
      "cell_type": "code",
      "execution_count": null,
      "metadata": {
        "colab": {
          "base_uri": "https://localhost:8080/"
        },
        "id": "QcfGTYPs2B56",
        "outputId": "d79f537b-6bc6-4821-9867-b2d08263880f"
      },
      "outputs": [
        {
          "output_type": "stream",
          "name": "stdout",
          "text": [
            "Downloading data from https://www.cs.toronto.edu/~kriz/cifar-100-python.tar.gz\n",
            "169001437/169001437 [==============================] - 4s 0us/step\n",
            "(50000, 100)\n"
          ]
        }
      ],
      "source": [
        "from keras.datasets import cifar100\n",
        "import tensorflow as tf\n",
        "from keras.utils import to_categorical\n",
        "\n",
        "(x_train, y_train),(x_test, y_test) = cifar100.load_data()\n",
        "x_train.shape\n",
        "y_train.shape\n",
        "# Reshape \n",
        "x_train = x_train.reshape(50000, 32 * 32 * 3)\n",
        "x_train = x_train.astype('float32')/255\n",
        "\n",
        "y_train = to_categorical(y_train, 100)\n",
        "y_test = to_categorical(y_test, 100)\n",
        "print(y_train.shape)\n"
      ]
    },
    {
      "cell_type": "code",
      "source": [
        "from keras.models import Sequential\n",
        "from keras.layers import Dense\n",
        "# Xét cấu hình\n",
        "model = Sequential()\n",
        "model.add(Dense(2000, activation = 'relu', input_shape = (32*32*3,)))\n",
        "model.add(Dense(100, activation='softmax'))\n",
        "model.summary()\n",
        "\n"
      ],
      "metadata": {
        "colab": {
          "base_uri": "https://localhost:8080/"
        },
        "id": "r8GZxQQq2wrh",
        "outputId": "d973b04f-3398-4615-9f8c-504997aa415d"
      },
      "execution_count": null,
      "outputs": [
        {
          "output_type": "stream",
          "name": "stdout",
          "text": [
            "Model: \"sequential\"\n",
            "_________________________________________________________________\n",
            " Layer (type)                Output Shape              Param #   \n",
            "=================================================================\n",
            " dense (Dense)               (None, 2000)              6146000   \n",
            "                                                                 \n",
            " dense_1 (Dense)             (None, 100)               200100    \n",
            "                                                                 \n",
            "=================================================================\n",
            "Total params: 6,346,100\n",
            "Trainable params: 6,346,100\n",
            "Non-trainable params: 0\n",
            "_________________________________________________________________\n"
          ]
        }
      ]
    },
    {
      "cell_type": "code",
      "source": [
        "model.compile(loss='categorical_crossentropy',optimizer='adam', metrics=['accuracy'])\n",
        "model.fit(x_train, y_train,batch_size=128, epochs=10)\n"
      ],
      "metadata": {
        "colab": {
          "base_uri": "https://localhost:8080/"
        },
        "id": "GW45sB8L4lDw",
        "outputId": "4703a80c-503d-4f9a-bf8b-ecdbd30b3d13"
      },
      "execution_count": null,
      "outputs": [
        {
          "output_type": "stream",
          "name": "stdout",
          "text": [
            "Epoch 1/10\n",
            "391/391 [==============================] - 54s 136ms/step - loss: 4.1129 - accuracy: 0.0881\n",
            "Epoch 2/10\n",
            "391/391 [==============================] - 53s 136ms/step - loss: 3.6821 - accuracy: 0.1481\n",
            "Epoch 3/10\n",
            "391/391 [==============================] - 54s 137ms/step - loss: 3.5527 - accuracy: 0.1701\n",
            "Epoch 4/10\n",
            "391/391 [==============================] - 54s 139ms/step - loss: 3.4593 - accuracy: 0.1872\n",
            "Epoch 5/10\n",
            "391/391 [==============================] - 53s 135ms/step - loss: 3.3814 - accuracy: 0.2013\n",
            "Epoch 6/10\n",
            "391/391 [==============================] - 55s 142ms/step - loss: 3.3246 - accuracy: 0.2115\n",
            "Epoch 7/10\n",
            "391/391 [==============================] - 60s 154ms/step - loss: 3.2724 - accuracy: 0.2187\n",
            "Epoch 8/10\n",
            "391/391 [==============================] - 58s 147ms/step - loss: 3.2216 - accuracy: 0.2286\n",
            "Epoch 9/10\n",
            "391/391 [==============================] - 55s 142ms/step - loss: 3.1791 - accuracy: 0.2371\n",
            "Epoch 10/10\n",
            "391/391 [==============================] - 57s 145ms/step - loss: 3.1326 - accuracy: 0.2462\n"
          ]
        },
        {
          "output_type": "execute_result",
          "data": {
            "text/plain": [
              "<keras.callbacks.History at 0x7f3d04b6cf70>"
            ]
          },
          "metadata": {},
          "execution_count": 14
        }
      ]
    },
    {
      "cell_type": "code",
      "source": [
        "model.save('cifar100.h5')"
      ],
      "metadata": {
        "id": "SnKfRJ436Djz"
      },
      "execution_count": null,
      "outputs": []
    },
    {
      "cell_type": "code",
      "source": [
        "model.save('/content/drive/MyDrive/cifar100.h5')"
      ],
      "metadata": {
        "id": "oCuRji1w5o1x"
      },
      "execution_count": null,
      "outputs": []
    },
    {
      "cell_type": "code",
      "source": [],
      "metadata": {
        "id": "pYXM0KUL30tT"
      },
      "execution_count": null,
      "outputs": []
    }
  ]
}